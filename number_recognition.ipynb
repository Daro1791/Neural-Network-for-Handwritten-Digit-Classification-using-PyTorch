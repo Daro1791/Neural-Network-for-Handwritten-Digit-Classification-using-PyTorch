{
 "cells": [
  {
   "cell_type": "markdown",
   "metadata": {},
   "source": [
    "We are going to create a Neural Network to classify images of handwritten digits.\n",
    "For this we will use PyTorch"
   ]
  },
  {
   "cell_type": "code",
   "execution_count": 5,
   "metadata": {},
   "outputs": [],
   "source": [
    "# Let's import the libraries\n",
    "import torch # PyTorch\n",
    "\n",
    "from torchvision import datasets  # For downloading the dataset\n",
    "from torchvision.transforms import ToTensor  # For converting data to Tensors\n",
    "import matplotlib.pyplot as plt  # For plotting images and labels\n"
   ]
  },
  {
   "cell_type": "code",
   "execution_count": 3,
   "metadata": {},
   "outputs": [
    {
     "name": "stdout",
     "output_type": "stream",
     "text": [
      "Using cpu\n"
     ]
    }
   ],
   "source": [
    "# Detect GPU\n",
    "device = (\n",
    "    \"cuda\" if torch.cuda.is_available()\n",
    "    else \"cpu\"\n",
    ")\n",
    "print(f\"Using {device}\")"
   ]
  },
  {
   "cell_type": "markdown",
   "metadata": {},
   "source": [
    "We will use the MNIST dataset, which contains a total of 60,000 images, each with a handwritten digit (between 0 and 9). Additionally, each image has its corresponding label (a numerical value between 0 and 9)."
   ]
  },
  {
   "cell_type": "code",
   "execution_count": 6,
   "metadata": {},
   "outputs": [
    {
     "name": "stdout",
     "output_type": "stream",
     "text": [
      "Downloading http://yann.lecun.com/exdb/mnist/train-images-idx3-ubyte.gz\n",
      "Failed to download (trying next):\n",
      "HTTP Error 403: Forbidden\n",
      "\n",
      "Downloading https://ossci-datasets.s3.amazonaws.com/mnist/train-images-idx3-ubyte.gz\n",
      "Downloading https://ossci-datasets.s3.amazonaws.com/mnist/train-images-idx3-ubyte.gz to data\\MNIST\\raw\\train-images-idx3-ubyte.gz\n"
     ]
    },
    {
     "name": "stderr",
     "output_type": "stream",
     "text": [
      "100.0%\n"
     ]
    },
    {
     "name": "stdout",
     "output_type": "stream",
     "text": [
      "Extracting data\\MNIST\\raw\\train-images-idx3-ubyte.gz to data\\MNIST\\raw\n",
      "\n",
      "Downloading http://yann.lecun.com/exdb/mnist/train-labels-idx1-ubyte.gz\n",
      "Failed to download (trying next):\n",
      "HTTP Error 403: Forbidden\n",
      "\n",
      "Downloading https://ossci-datasets.s3.amazonaws.com/mnist/train-labels-idx1-ubyte.gz\n",
      "Downloading https://ossci-datasets.s3.amazonaws.com/mnist/train-labels-idx1-ubyte.gz to data\\MNIST\\raw\\train-labels-idx1-ubyte.gz\n"
     ]
    },
    {
     "name": "stderr",
     "output_type": "stream",
     "text": [
      "100.0%\n"
     ]
    },
    {
     "name": "stdout",
     "output_type": "stream",
     "text": [
      "Extracting data\\MNIST\\raw\\train-labels-idx1-ubyte.gz to data\\MNIST\\raw\n",
      "\n",
      "Downloading http://yann.lecun.com/exdb/mnist/t10k-images-idx3-ubyte.gz\n",
      "Failed to download (trying next):\n",
      "HTTP Error 403: Forbidden\n",
      "\n",
      "Downloading https://ossci-datasets.s3.amazonaws.com/mnist/t10k-images-idx3-ubyte.gz\n",
      "Downloading https://ossci-datasets.s3.amazonaws.com/mnist/t10k-images-idx3-ubyte.gz to data\\MNIST\\raw\\t10k-images-idx3-ubyte.gz\n"
     ]
    },
    {
     "name": "stderr",
     "output_type": "stream",
     "text": [
      "100.0%\n"
     ]
    },
    {
     "name": "stdout",
     "output_type": "stream",
     "text": [
      "Extracting data\\MNIST\\raw\\t10k-images-idx3-ubyte.gz to data\\MNIST\\raw\n",
      "\n",
      "Downloading http://yann.lecun.com/exdb/mnist/t10k-labels-idx1-ubyte.gz\n",
      "Failed to download (trying next):\n",
      "HTTP Error 403: Forbidden\n",
      "\n",
      "Downloading https://ossci-datasets.s3.amazonaws.com/mnist/t10k-labels-idx1-ubyte.gz\n",
      "Downloading https://ossci-datasets.s3.amazonaws.com/mnist/t10k-labels-idx1-ubyte.gz to data\\MNIST\\raw\\t10k-labels-idx1-ubyte.gz\n"
     ]
    },
    {
     "name": "stderr",
     "output_type": "stream",
     "text": [
      "100.0%"
     ]
    },
    {
     "name": "stdout",
     "output_type": "stream",
     "text": [
      "Extracting data\\MNIST\\raw\\t10k-labels-idx1-ubyte.gz to data\\MNIST\\raw\n",
      "\n"
     ]
    },
    {
     "name": "stderr",
     "output_type": "stream",
     "text": [
      "\n"
     ]
    }
   ],
   "source": [
    "# Downloading the dataset and save it in \"data\" directory:\n",
    "\n",
    "data_mnist = datasets.MNIST(\n",
    "    root=\"data\",  # Folder where the dataset will be stored\n",
    "    train=True,  # True: download 60,000 train images, False: doanload 10,000 test images\n",
    "    download=True,\n",
    "    transform=ToTensor()  # Convert images to tensors\n",
    ")\n"
   ]
  },
  {
   "cell_type": "code",
   "execution_count": 9,
   "metadata": {},
   "outputs": [
    {
     "data": {
      "image/png": "[encoded data removed]",
      "text/plain": [
       "<Figure size 400x400 with 9 Axes>"
      ]
     },
     "metadata": {},
     "output_type": "display_data"
    }
   ],
   "source": [
    "figure = plt.figure(figsize=(4, 4))\n",
    "rows, cols = 3, 3\n",
    "\n",
    "for i in range(1, cols * rows + 1):\n",
    "    # Choose a random image\n",
    "    sample_idx = torch.randint(len(data_mnist), size=(1,)).item()\n",
    "\n",
    "    # Extract image and label\n",
    "    img, label = data_mnist[sample_idx]\n",
    "\n",
    "    # Plot\n",
    "    figure.add_subplot(rows, cols, i)\n",
    "    plt.title(str(label))\n",
    "    plt.axis(\"off\")\n",
    "    plt.imshow(img.squeeze(), cmap=\"gray\")  \n",
    "plt.show()\n"
   ]
  },
  {
   "cell_type": "markdown",
   "metadata": {},
   "source": [
    "Train, Valid, Test"
   ]
  },
  {
   "cell_type": "code",
   "execution_count": 30,
   "metadata": {},
   "outputs": [
    {
     "data": {
      "text/plain": [
       "<torch._C.Generator at 0xbaa8210cd0>"
      ]
     },
     "execution_count": 30,
     "metadata": {},
     "output_type": "execute_result"
    }
   ],
   "source": [
    "# The torch.manual_seed() function is used to set the seed for generating random numbers in PyTorch. \n",
    "# This ensures that the random numbers generated are reproducible, which is crucial for debugging and ensuring \n",
    "# that experiments are consistent.\n",
    "torch.manual_seed(123)"
   ]
  },
  {
   "cell_type": "code",
   "execution_count": 31,
   "metadata": {},
   "outputs": [],
   "source": [
    "# split the data_mnist dataset into three separate datasets: training, validation, and test sets. \n",
    "\n",
    "total_size = len(data_mnist)  # Typically 60,000 for the MNIST training set\n",
    "train_size = int(0.8 * total_size)  # 80% of 60,000 -> 48,000\n",
    "val_size = int(0.1 * total_size)    # 10% of 60,000 -> 6,000\n",
    "test_size = total_size - train_size - val_size  # Remaining samples -> 6,000\n",
    "\n",
    "train, val, test = torch.utils.data.random_split(\n",
    "    data_mnist, [train_size, val_size, test_size]\n",
    ")\n"
   ]
  },
  {
   "cell_type": "markdown",
   "metadata": {},
   "source": [
    "# Deep Learning Model\n",
    "\n",
    "Input Layer: 784 elements (since the MNIST images are 28x28 pixels, flattened into a 784-element vector). \n",
    "\n",
    "Hidden Layer: 15 neurons with ReLU activation.\n",
    "\n",
    "Output Layer: 10 neurons with softmax activation (one for each digit class 0-9)."
   ]
  },
  {
   "cell_type": "code",
   "execution_count": 32,
   "metadata": {},
   "outputs": [],
   "source": [
    "# Import Necessary Modules\n",
    "import torch.nn as nn"
   ]
  },
  {
   "cell_type": "code",
   "execution_count": 33,
   "metadata": {},
   "outputs": [],
   "source": [
    "# Define the Neural Network\n",
    "\n",
    "class SimpleNN(nn.Module):\n",
    "\n",
    "    def __init__(self):\n",
    "        super().__init__()\n",
    "\n",
    "        # layers sequentially\n",
    "        self.flatten = nn.Flatten() # Flatten the input images\n",
    "        self.net = nn.Sequential(\n",
    "            nn.Linear(28*28, 15), # Input layer to hidden layer\n",
    "            nn.ReLU(), # Activation function for hidden layer\n",
    "            nn.Linear(15, 10), # Hidden layer to output layer (no activation)\n",
    "        )\n",
    "\n",
    "    # 2. forward method \n",
    "    def forward(self, x):\n",
    "        # Define the forward pass sequentially\n",
    "        x = self.flatten(x) # Flatten the input data\n",
    "        logits = self.net(x) # Generate predictions\n",
    "\n",
    "        return logits\n"
   ]
  },
  {
   "cell_type": "code",
   "execution_count": 34,
   "metadata": {},
   "outputs": [
    {
     "name": "stdout",
     "output_type": "stream",
     "text": [
      "SimpleNN(\n",
      "  (flatten): Flatten(start_dim=1, end_dim=-1)\n",
      "  (net): Sequential(\n",
      "    (0): Linear(in_features=784, out_features=15, bias=True)\n",
      "    (1): ReLU()\n",
      "    (2): Linear(in_features=15, out_features=10, bias=True)\n",
      "  )\n",
      ")\n"
     ]
    }
   ],
   "source": [
    "# Initialize the Model\n",
    "model = SimpleNN().to(device)\n",
    "print(model)"
   ]
  },
  {
   "cell_type": "code",
   "execution_count": 46,
   "metadata": {},
   "outputs": [],
   "source": [
    "# Define Loss Function and Optimizer\n",
    "learning_rate = 0.05\n",
    "\n",
    "loss_fn = nn.CrossEntropyLoss()\n",
    "optimizer = torch.optim.SGD(model.parameters(), lr=learning_rate)"
   ]
  },
  {
   "cell_type": "markdown",
   "metadata": {},
   "source": [
    "### Prepare the training and validation sets\n",
    "The training set will allow us to use forward and backward propagation to automatically update the model's parameters.\n",
    "\n",
    "The validation set will be used to test the model after each training iteration and verify its performance.\n",
    "\n",
    "Since we have many training data (48,000) and many validation data (6,000), we cannot present them to the model in one go as there would be memory RAM issues.\n",
    "\n",
    "Instead, we present them in batches, i.e., small groups of data.\n",
    "\n",
    "To create these batches and present them to the model, we use DataLoader, the second data processing module provided by PyTorch.\n",
    "\n",
    "Why Use DataLoaders?\n",
    "\n",
    "Efficiency: DataLoaders load the data in mini-batches, which is more memory efficient and faster than loading the entire dataset at once.\n",
    "\n",
    "Shuffling: Shuffling the training data helps prevent the model from learning the order of the data, leading to better generalization.\n",
    "\n",
    "Automatic Batching: DataLoaders handle batching of data automatically, simplifying the training loop code."
   ]
  },
  {
   "cell_type": "code",
   "execution_count": 47,
   "metadata": {},
   "outputs": [],
   "source": [
    "# Imports the DataLoader class, which is used to load datasets for training and evaluation in mini-batches.\n",
    "from torch.utils.data import DataLoader\n",
    "\n",
    "# Define the Batch Size\n",
    "batch_size = 1000  # Batch size\n",
    "\n",
    "# Create the Training DataLoader\n",
    "train_loader = DataLoader(\n",
    "    dataset=train,\n",
    "    batch_size=batch_size,\n",
    "    shuffle=True  # Shuffle the data randomly at each epoch\n",
    ")\n",
    "\n",
    "# Create the Validation DataLoade\n",
    "val_loader = DataLoader(\n",
    "    dataset=val,\n",
    "    batch_size=batch_size,\n",
    "    shuffle=False  # Do not shuffle validation data\n",
    ")"
   ]
  },
  {
   "cell_type": "code",
   "execution_count": 48,
   "metadata": {},
   "outputs": [],
   "source": [
    "def train_loop(dataloader, model, loss_fn, optimizer):\n",
    "    # Number of training data and number of batches\n",
    "    train_size = len(dataloader.dataset)\n",
    "    num_batches = len(dataloader)\n",
    "\n",
    "    # Tell Pytorch that we will train the model\n",
    "    model.train()\n",
    "\n",
    "    # Initialize loss and accuracy accumulators\n",
    "    train_loss, accuracy = 0, 0\n",
    "\n",
    "    # Present the data to the model in batches (of size batch_size)\n",
    "    for batch_num, (X, y) in enumerate(dataloader):\n",
    "        # Move \"X\" and \"y\" to the GPU\n",
    "        X, y = X.to(device), y.to(device)\n",
    "\n",
    "        # Forward propagation\n",
    "        logits = model(X)\n",
    "\n",
    "        # Backpropagation\n",
    "        loss = loss_fn(logits, y) # loss between the predicted output (logits) and the actual target labels (y)\n",
    "        loss.backward() # computes the gradients of the loss with respect to all the parameters in the model.\n",
    "        optimizer.step() # the optimizer takes a step in the opposite direction of the gradients to update the model parameters\n",
    "        optimizer.zero_grad() # This line clears the gradients of all optimized tensors. It's important to do this before computing the gradients for the next batch of data. Otherwise, the gradients would accumulate from one batch to the next, leading to incorrect gradient values and potentially unstable training.\n",
    "\n",
    "        # Accumulate loss and accuracy values\n",
    "        train_loss += loss.item()\n",
    "        accuracy += (logits.argmax(1)==y).type(torch.float).sum().item()\n",
    "\n",
    "        # Print training progress (every 10 batches)\n",
    "        if batch_num % 10 == 0:\n",
    "            # Get the loss value (loss) and the number of processed data (ndata)\n",
    "            ndata = batch_num * batch_size\n",
    "\n",
    "            # Print to screen\n",
    "            print(f\"\\tLoss: {loss.item():>7f}  [{ndata:>5d}/{train_size:>5d}]\")\n",
    "\n",
    "    # After presenting all the data to the model, average loss and accuracy\n",
    "    train_loss /= num_batches\n",
    "    accuracy /= train_size\n",
    "\n",
    "    # Print information\n",
    "    print(f'\\tAverage accuracy/loss:')\n",
    "    print(f'\\t\\tTraining: {(100*accuracy):>0.1f}% / {train_loss:>8f}')\n"
   ]
  },
  {
   "cell_type": "markdown",
   "metadata": {},
   "source": [
    "The concept is to validate the model in each iteration alongside training. The validation process simply involves:\n",
    "\n",
    "1. Taking the trained model and generating predictions with the validation set.\n",
    "2. Calculating the loss and accuracy of the model based on the predictions generated in step 1.\n",
    "\n",
    "To achieve this, we will create a second function called `val_loop`. This function is similar to the previous one but with the following differences:\n",
    "\n",
    "- We won't pass the optimizer to this function since we won't be performing training.\n",
    "- We won't execute backpropagation because we won't be training.\n",
    "- We'll only perform forward propagation to generate predictions.\n",
    "\n",
    "In the latter case, we use `torch.no_grad()` to explicitly tell PyTorch not to calculate gradients (since we're not training the model). This simplifies calculations and speeds up the execution of the validation code."
   ]
  },
  {
   "cell_type": "code",
   "execution_count": 49,
   "metadata": {},
   "outputs": [],
   "source": [
    "def val_loop(dataloader, model, loss_fn):\n",
    "    # Number of validation data and number of batches\n",
    "    val_size = len(dataloader.dataset)\n",
    "    nlotes = len(dataloader)\n",
    "\n",
    "    # Tell PyTorch that we will validate the model\n",
    "    model.eval()\n",
    "\n",
    "    # Initialize loss and accuracy accumulators\n",
    "    val_loss, accuracy = 0, 0\n",
    "\n",
    "    # Evaluate (generate predictions) using \"no_grad\"\n",
    "    with torch.no_grad():\n",
    "        for X, y in dataloader:\n",
    "            # Move \"X\" and \"y\" to the GPU\n",
    "            X, y = X.to(device), y.to(device)\n",
    "\n",
    "            # Forward propagation (predictions)\n",
    "            logits = model(X)\n",
    "\n",
    "            # Accumulate loss and accuracy values\n",
    "            val_loss += loss_fn(logits, y).item()\n",
    "            accuracy += (logits.argmax(1) == y).type(torch.float).sum().item()\n",
    "\n",
    "    # Calculate average loss and accuracy after generating predictions\n",
    "    val_loss /= nlotes\n",
    "    accuracy /= val_size\n",
    "\n",
    "    # Print to screen\n",
    "    print(f\"\\t\\tValidation: {(100*accuracy):>0.1f}% / {val_loss:>8f} \\n\")\n"
   ]
  },
  {
   "cell_type": "markdown",
   "metadata": {},
   "source": [
    "Before proceeding further, let's break down the training process into two essential steps: training and validation. We'll train the model using the training data and then validate its performance using the validation data. This iterative process will help us refine the model's parameters and ensure its effectiveness. "
   ]
  },
  {
   "cell_type": "code",
   "execution_count": 63,
   "metadata": {},
   "outputs": [
    {
     "name": "stdout",
     "output_type": "stream",
     "text": [
      "Iteration 1/5\n",
      "-------------------------------\n",
      "\tLoss: 0.417450  [    0/48000]\n",
      "\tLoss: 0.408067  [10000/48000]\n",
      "\tLoss: 0.419605  [20000/48000]\n",
      "\tLoss: 0.461960  [30000/48000]\n",
      "\tLoss: 0.399535  [40000/48000]\n",
      "\tAverage accuracy/loss:\n",
      "\t\tTraining: 88.6% / 0.423644\n",
      "\t\tValidation: 88.2% / 0.432958 \n",
      "\n",
      "Iteration 2/5\n",
      "-------------------------------\n",
      "\tLoss: 0.374882  [    0/48000]\n",
      "\tLoss: 0.406873  [10000/48000]\n",
      "\tLoss: 0.389806  [20000/48000]\n",
      "\tLoss: 0.402206  [30000/48000]\n",
      "\tLoss: 0.408610  [40000/48000]\n",
      "\tAverage accuracy/loss:\n",
      "\t\tTraining: 88.9% / 0.407837\n",
      "\t\tValidation: 88.3% / 0.418430 \n",
      "\n",
      "Iteration 3/5\n",
      "-------------------------------\n",
      "\tLoss: 0.393539  [    0/48000]\n",
      "\tLoss: 0.374127  [10000/48000]\n",
      "\tLoss: 0.414007  [20000/48000]\n",
      "\tLoss: 0.429215  [30000/48000]\n",
      "\tLoss: 0.379305  [40000/48000]\n",
      "\tAverage accuracy/loss:\n",
      "\t\tTraining: 89.1% / 0.395080\n",
      "\t\tValidation: 88.6% / 0.407665 \n",
      "\n",
      "Iteration 4/5\n",
      "-------------------------------\n",
      "\tLoss: 0.424596  [    0/48000]\n",
      "\tLoss: 0.406331  [10000/48000]\n",
      "\tLoss: 0.388223  [20000/48000]\n",
      "\tLoss: 0.355893  [30000/48000]\n",
      "\tLoss: 0.400165  [40000/48000]\n",
      "\tAverage accuracy/loss:\n",
      "\t\tTraining: 89.4% / 0.384618\n",
      "\t\tValidation: 88.8% / 0.398079 \n",
      "\n",
      "Iteration 5/5\n",
      "-------------------------------\n",
      "\tLoss: 0.351010  [    0/48000]\n",
      "\tLoss: 0.359440  [10000/48000]\n",
      "\tLoss: 0.409922  [20000/48000]\n",
      "\tLoss: 0.353977  [30000/48000]\n",
      "\tLoss: 0.369535  [40000/48000]\n",
      "\tAverage accuracy/loss:\n",
      "\t\tTraining: 89.6% / 0.375630\n",
      "\t\tValidation: 89.0% / 0.390106 \n",
      "\n",
      "Done!\n"
     ]
    }
   ],
   "source": [
    "EPOCHS = 5\n",
    "\n",
    "for t in range(EPOCHS):\n",
    "    print(f\"Iteration {t+1}/{EPOCHS}\\n-------------------------------\")\n",
    "    # Train\n",
    "    train_loop(train_loader, model, loss_fn, optimizer)\n",
    "    # Validate\n",
    "    val_loop(val_loader, model, loss_fn)\n",
    "print(\"Done!\")"
   ]
  },
  {
   "cell_type": "markdown",
   "metadata": {},
   "source": [
    "### Prediction over test set"
   ]
  },
  {
   "cell_type": "code",
   "execution_count": 55,
   "metadata": {},
   "outputs": [],
   "source": [
    "def predict(model, img):\n",
    "    # Generate prediction\n",
    "    logits = model(img)\n",
    "    y_pred = logits.argmax(1).item()\n",
    "\n",
    "    # Display original image and predicted category\n",
    "    figure = plt.figure(figsize=(2, 2))\n",
    "    plt.imshow(img.cpu().squeeze(), cmap=\"gray\")\n",
    "    plt.title(f'Predicted category: {y_pred}')\n",
    "    plt.show()\n"
   ]
  },
  {
   "cell_type": "code",
   "execution_count": 62,
   "metadata": {},
   "outputs": [
    {
     "data": {
      "image/png": "[encoded data removed]",
      "text/plain": [
       "<Figure size 200x200 with 1 Axes>"
      ]
     },
     "metadata": {},
     "output_type": "display_data"
    }
   ],
   "source": [
    "# Take an image from the test set\n",
    "sample_idx = torch.randint(len(test), size=(1,)).item()\n",
    "img, lbl = test[sample_idx]\n",
    "\n",
    "# Generate the prediction\n",
    "predict(model, img)"
   ]
  },
  {
   "cell_type": "code",
   "execution_count": null,
   "metadata": {},
   "outputs": [],
   "source": []
  }
 ],
 "metadata": {
  "kernelspec": {
   "display_name": ".venv",
   "language": "python",
   "name": "python3"
  },
  "language_info": {
   "codemirror_mode": {
    "name": "ipython",
    "version": 3
   },
   "file_extension": ".py",
   "mimetype": "text/x-python",
   "name": "python",
   "nbconvert_exporter": "python",
   "pygments_lexer": "ipython3",
   "version": "3.12.0"
  }
 },
 "nbformat": 4,
 "nbformat_minor": 2
}
